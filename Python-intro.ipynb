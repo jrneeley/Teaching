{
 "cells": [
  {
   "cell_type": "markdown",
   "metadata": {},
   "source": [
    "# Getting started with python"
   ]
  },
  {
   "cell_type": "code",
   "execution_count": 1,
   "metadata": {
    "collapsed": true
   },
   "outputs": [],
   "source": [
    "# import any python modules you need. In most cases, you will need numpy and matplotlib\n",
    "import numpy as np\n",
    "import matplotlib.pyplot as mp\n",
    "# In order to see matplotlib plots within your jupyter notebook, you must add the line below. \n",
    "# This is NOT necessary if you are running python from the command line (in a .py file)\n",
    "%matplotlib inline"
   ]
  },
  {
   "cell_type": "markdown",
   "metadata": {},
   "source": [
    "## Numpy Basics: defining arrays"
   ]
  },
  {
   "cell_type": "code",
   "execution_count": 2,
   "metadata": {},
   "outputs": [
    {
     "name": "stdout",
     "output_type": "stream",
     "text": [
      "array a: [ 0.  0.  0.  0.  0.]\n",
      "array b: [0 1 2 3 4]\n",
      "array c: [ 2  4  6  8 10]\n",
      "array d: [2 3 5]\n"
     ]
    }
   ],
   "source": [
    "# Define an array of length 5 filled with zeros\n",
    "a = np.zeros(5)\n",
    "# Define an array of length 5 filled with the corresponding index\n",
    "b = np.arange(5)\n",
    "# Define a user specified array\n",
    "c = np.array([2, 4, 6, 8, 10])\n",
    "# Specify the data type of an array\n",
    "d = np.array([2.1, 3.4, 5.5], dtype=int)\n",
    "\n",
    "print 'array a: {}'.format(a)\n",
    "print 'array b: {}'.format(b)\n",
    "print 'array c: {}'.format(c)\n",
    "print 'array d: {}'.format(d)"
   ]
  },
  {
   "cell_type": "markdown",
   "metadata": {},
   "source": [
    "## Numpy Basics: modify an array"
   ]
  },
  {
   "cell_type": "code",
   "execution_count": 3,
   "metadata": {},
   "outputs": [
    {
     "name": "stdout",
     "output_type": "stream",
     "text": [
      "array a: [ 0.  1.  0.  0.  0.]\n",
      "array b: [0 4 2 3 4]\n",
      "array c: [ 2  4  6  8 10 12]\n"
     ]
    }
   ],
   "source": [
    "# Change a single element of an array\n",
    "a[1] = 1\n",
    "b[1] += 3\n",
    "# Add another element to an array\n",
    "c = np.append(c, 12)\n",
    "\n",
    "print 'array a: {}'.format(a)\n",
    "print 'array b: {}'.format(b)\n",
    "print 'array c: {}'.format(c)"
   ]
  },
  {
   "cell_type": "markdown",
   "metadata": {},
   "source": [
    "## Numpy Basics: read/write text files"
   ]
  },
  {
   "cell_type": "code",
   "execution_count": 4,
   "metadata": {},
   "outputs": [
    {
     "name": "stdout",
     "output_type": "stream",
     "text": [
      "x values: [ 0.   0.1  0.2  0.3  0.4  0.5  0.6  0.7  0.8  0.9  1.   1.1  1.2  1.3  1.4\n",
      "  1.5  1.6  1.7  1.8  1.9  2.   2.1  2.2  2.3  2.4  2.5  2.6  2.7  2.8  2.9\n",
      "  3.   3.1  3.2  3.3  3.4  3.5  3.6  3.7  3.8  3.9  4.   4.1  4.2  4.3  4.4\n",
      "  4.5  4.6  4.7  4.8  4.9  5.   5.1  5.2  5.3  5.4  5.5  5.6  5.7  5.8  5.9\n",
      "  6.   6.1  6.2]\n",
      "new y values: [ 0.      0.1996  0.3974  0.591   0.7788  0.9588  1.1292  1.2884  1.4348\n",
      "  1.5666  1.683   1.7824  1.864   1.9272  1.9708  1.995   1.9992  1.9834\n",
      "  1.9476  1.8926  1.8186  1.7264  1.617   1.4914  1.351   1.197   1.031\n",
      "  0.8548  0.67    0.4784  0.2822  0.0832 -0.1168 -0.3154 -0.511  -0.7016\n",
      " -0.885  -1.0596 -1.2238 -1.3756 -1.5136 -1.6366 -1.7432 -1.8324 -1.9032\n",
      " -1.955  -1.9874 -1.9998 -1.9924 -1.965  -1.9178 -1.8516 -1.767  -1.6646\n",
      " -1.5456 -1.411  -1.2626 -1.1014 -0.9292 -0.7478 -0.5588 -0.3644 -0.1662]\n"
     ]
    }
   ],
   "source": [
    "# read in a text file with two columns, labelling them x and y\n",
    "dtype1 = np.dtype([('x', float), ('y', float)])\n",
    "data = np.loadtxt('data.txt', dtype=dtype1)\n",
    "\n",
    "# access a single column with data['x']\n",
    "print 'x values: {}'.format(data['x'])\n",
    "\n",
    "# modify the y values\n",
    "new_y_values = 2*data['y']\n",
    "\n",
    "print 'new y values: {}'.format(new_y_values)"
   ]
  },
  {
   "cell_type": "code",
   "execution_count": 5,
   "metadata": {
    "collapsed": true
   },
   "outputs": [],
   "source": [
    "# save the modified data to a text file\n",
    "data_save = np.array(zip(data['x'], new_y_values))\n",
    "np.savetxt('data-new.txt', data_save, fmt='%3.1f %7.4f')"
   ]
  },
  {
   "cell_type": "markdown",
   "metadata": {},
   "source": [
    "## Quick Matplotlib example"
   ]
  },
  {
   "cell_type": "code",
   "execution_count": 6,
   "metadata": {},
   "outputs": [
    {
     "data": {
      "image/png": "[encoded data removed]",
      "text/plain": [
       "<matplotlib.figure.Figure at 0x11735dc90>"
      ]
     },
     "metadata": {},
     "output_type": "display_data"
    }
   ],
   "source": [
    "# Quick plotting example\n",
    "mp.plot(data['x'], data['y'], label='original')\n",
    "mp.plot(data['x'], new_y_values, label='modified')\n",
    "mp.xlabel('x')\n",
    "mp.ylabel('y')\n",
    "mp.legend()\n",
    "mp.show()"
   ]
  },
  {
   "cell_type": "code",
   "execution_count": null,
   "metadata": {
    "collapsed": true
   },
   "outputs": [],
   "source": []
  }
 ],
 "metadata": {
  "kernelspec": {
   "display_name": "Python 2",
   "language": "python",
   "name": "python2"
  },
  "language_info": {
   "codemirror_mode": {
    "name": "ipython",
    "version": 2
   },
   "file_extension": ".py",
   "mimetype": "text/x-python",
   "name": "python",
   "nbconvert_exporter": "python",
   "pygments_lexer": "ipython2",
   "version": "2.7.13"
  }
 },
 "nbformat": 4,
 "nbformat_minor": 2
}
