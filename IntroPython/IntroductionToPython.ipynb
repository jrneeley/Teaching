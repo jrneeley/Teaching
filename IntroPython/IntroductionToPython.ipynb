{
 "cells": [
  {
   "cell_type": "markdown",
   "metadata": {
    "collapsed": true
   },
   "source": [
    "# Introductory Python\n",
    "\n",
    "\n"
   ]
  },
  {
   "cell_type": "markdown",
   "metadata": {},
   "source": [
    "We will be working within Jupyter Notebooks. Python code can be entered into the cells below, and each cell can be run individually either by hitting the run button up top, or by using the keys __shift+enter__. \n",
    "\n",
    "When testing your code to make sure it does what you think it does, it is useful to print out information to the screen. This is done with the `print` function. Below are several examples of how you use print. "
   ]
  },
  {
   "cell_type": "code",
   "execution_count": 1,
   "metadata": {},
   "outputs": [
    {
     "name": "stdout",
     "output_type": "stream",
     "text": [
      "Hello\n",
      "How are you today? \n",
      "I am ok.\n",
      "\n",
      "\n",
      "\n",
      "1 2.2 3\n",
      "\n",
      "\n",
      "\n",
      "turtles\n",
      "I like turtles.\n",
      "\n",
      "\n",
      "\n",
      "The value of pi is 3.14159265359...\n",
      "The approximate value of pi is 3.14\n"
     ]
    }
   ],
   "source": [
    "# This is a comment. \n",
    "\n",
    "# If you would just like to print a string or number, simply type \n",
    "print 'Hello'\n",
    "\n",
    "# The next print statement will begin on a new line. If you want to specify where new lines should occur, use the\n",
    "# newline character \\n . \n",
    "print 'How are you today? \\nI am ok.'\n",
    "\n",
    "print '\\n\\n'\n",
    "\n",
    "# You can give multiple arguments to print, and it will put them side by side separated by a space\n",
    "print 1, 2.2, 3\n",
    "\n",
    "print '\\n\\n'\n",
    "\n",
    "# You can print variables too.\n",
    "whatILike = 'turtles'\n",
    "print whatILike\n",
    "\n",
    "# If you want to print out a variable within a string, use the following format, where the variable will go where {} is.\n",
    "print 'I like {}.'.format(whatILike)\n",
    "\n",
    "print '\\n\\n'\n",
    "\n",
    "# When using the format version of print, you can also round long numbers \n",
    "pi = 3.141592653589793238462643383279502884197169399375105820974944592307816406286\n",
    "\n",
    "print 'The value of pi is {}...'.format(pi)\n",
    "print 'The approximate value of pi is {:.2f}'.format(pi) # More on this later. "
   ]
  },
  {
   "cell_type": "markdown",
   "metadata": {},
   "source": [
    "## Python Data Types\n",
    "\n",
    "When you define a variable, Python automatically assigns a data type to that variable. \n",
    "\n",
    "* __Boolean Types__ \n",
    "    * `bool` - Boolean values are either \"True\" or \"False\". A boolean value is always returned as the result of a logical operation. Additionally, you can assign variables boolean values but remember that boolean values are case sensitive.  \n",
    "\n",
    "* __Numeric Types__ \n",
    "    * `int` - Positive or negative integer values. \n",
    "    * `long` - Integer values with unlimited precison, generally reserved for integers with more than XX digits.\n",
    "    * `float` - Any real number that includes a decimal point. Can also be expressed in scientific notation\n",
    "    * `complex` - Imagniary numbers. A \"J\" is used to denote the imaginary part in Python. \n",
    "    \n",
    "* __Sequence Types__\n",
    "    * `str` - Sequences of Unicode characters that are defined using single or double quotes. Strings can be \"indexed\" using the [] operator, to access a subset of the characters that define a string. Position indexes begin from zero.\n",
    "    * `list` - A sequence of comma separated values. Can be indexed and updated. \n",
    " "
   ]
  },
  {
   "cell_type": "code",
   "execution_count": null,
   "metadata": {},
   "outputs": [],
   "source": [
    "# Define new variables of various types\n",
    "variable1 = True\n",
    "variable2 = 42\n",
    "variable3 = 9999999999999999999\n",
    "variable4 = 57.32\n",
    "variable5 = 2+5J\n",
    "variable6 = 3.1e7\n",
    "variable7 = 10.\n",
    "variable8 = 'hello'\n",
    "variable9 = 1 < 2\n",
    "\n",
    "# To print a variable, use the print function \n",
    "print variable6\n",
    "\n",
    "# To check the data type Python assigned to your variable, use the type function\n",
    "print type(variable9)\n",
    "\n",
    "# lists \n",
    "list1 = [1, 2, 3]\n",
    "list2 = [1, 'two', 3]\n"
   ]
  },
  {
   "cell_type": "markdown",
   "metadata": {},
   "source": [
    "### Changing data types"
   ]
  },
  {
   "cell_type": "code",
   "execution_count": null,
   "metadata": {},
   "outputs": [],
   "source": [
    "# You can force Python to change the data type of a variable. \n",
    "print int(variable4)\n",
    "print float('1.5')\n",
    "print str(variable2)\n",
    "\n",
    "# If you pass an argument that cannot be converted to the specified data type, the function will return an error\n",
    "print float('NotANumber')"
   ]
  },
  {
   "cell_type": "markdown",
   "metadata": {},
   "source": [
    "## Numerical Operations"
   ]
  },
  {
   "cell_type": "code",
   "execution_count": null,
   "metadata": {},
   "outputs": [],
   "source": [
    "# Algebraic operations are performed using the expected symbols. The exception is exponents, for which you use **\n",
    "print '1 + 2 = {}'.format(1 + 2)\n",
    "print '5.5 - 0.5 = {}'.format(5.5 - 0.5)\n",
    "print '2 * 6 = {}'.format(2 * 6)\n",
    "print '1/4 = {}'.format(1/4)\n",
    "print '5^2 = {}'.format(5**2)"
   ]
  },
  {
   "cell_type": "markdown",
   "metadata": {},
   "source": [
    "## Logical Operators"
   ]
  },
  {
   "cell_type": "markdown",
   "metadata": {},
   "source": [
    "Logical operators (e.g. <, >, ==) test the validity of a statment, and return a boolean value. "
   ]
  },
  {
   "cell_type": "code",
   "execution_count": null,
   "metadata": {},
   "outputs": [],
   "source": [
    "print '1 < 2: {}'.format(1 < 2)\n",
    "print 'PIZZA == pizza: {}'.format('PIZZA' == 'pizza')\n",
    "print '5.0 != 5: {}'.format(5.0 != 5)\n",
    "print '10 > -5 : {}'.format(10 > -5)\n",
    "print '4/2 >= 2: {}'.format(4/2 >= 2)"
   ]
  },
  {
   "cell_type": "markdown",
   "metadata": {},
   "source": [
    "# Numpy"
   ]
  },
  {
   "cell_type": "markdown",
   "metadata": {},
   "source": [
    "NumPy is a Python module that is very useful in scientific programming. Since it is not included in the default Python installation, you will need to import the module. "
   ]
  },
  {
   "cell_type": "markdown",
   "metadata": {},
   "source": [
    "### Importing modules"
   ]
  },
  {
   "cell_type": "code",
   "execution_count": null,
   "metadata": {
    "collapsed": true
   },
   "outputs": [],
   "source": [
    "import numpy as np # import with an alias "
   ]
  },
  {
   "cell_type": "markdown",
   "metadata": {},
   "source": [
    "### Defining and Initializing Numpy arrays"
   ]
  },
  {
   "cell_type": "code",
   "execution_count": null,
   "metadata": {},
   "outputs": [],
   "source": [
    "# Define an array of length 5 filled with zeros\n",
    "a = np.zeros(5)\n",
    "# Define an array of length 5 filled with the corresponding index\n",
    "b = np.arange(5)\n",
    "# Define a user specified array\n",
    "c = np.array([2, 4, 6, 8, 10])\n",
    "# Specify the data type of an array\n",
    "d = np.array([2.1, 3.4, 5.5], dtype=int)\n",
    "# define array using list comprehension\n",
    "e = np.array([x**2+5*x+1 for x in range(0,5)])\n",
    "\n",
    "print 'array a: {}'.format(a)\n",
    "print 'array b: {}'.format(b)\n",
    "print 'array c: {}'.format(c)\n",
    "print 'array d: {}'.format(d)\n",
    "print 'array e: {}'.format(e)\n",
    "# 2D arrays\n",
    "\n",
    "aa = np.zeros((4,3))\n",
    "print '2D array aa: \\n {}'.format(aa)"
   ]
  },
  {
   "cell_type": "markdown",
   "metadata": {},
   "source": [
    "### Modifying NumPy arrays"
   ]
  },
  {
   "cell_type": "code",
   "execution_count": null,
   "metadata": {},
   "outputs": [],
   "source": [
    "# Change a single element of an array\n",
    "a[1] = 1\n",
    "b[1] += 3\n",
    "# Add another element to an array\n",
    "c = np.append(c, 12)\n",
    "\n",
    "print 'array a: {}'.format(a)\n",
    "print 'array b: {}'.format(b)\n",
    "print 'array c: {}'.format(c)\n",
    "\n",
    "# Modify a 2D array\n",
    "aa[0] = [1,2,3]\n",
    "aa[3,1] = 99\n",
    "aa[:,2] = [10,10,10, 10]\n",
    "print '2D array aa: \\n {}'.format(aa)"
   ]
  },
  {
   "cell_type": "markdown",
   "metadata": {},
   "source": [
    "### Mathematical Operations"
   ]
  },
  {
   "cell_type": "code",
   "execution_count": null,
   "metadata": {},
   "outputs": [],
   "source": [
    "print a+b\n",
    "print c*4\n",
    "print b**2\n",
    "\n",
    "# NumPy also has many built in functions, such as sine, mean, median, etc. Here a few examples.\n",
    "print 'The mean of array b is {}'.format(np.mean(b))\n",
    "print 'The cosine of array c is {}'.format(np.cos(c))\n",
    "print 'The standard deviation of array b is {}'.format(np.std(b))\n",
    "\n",
    "# A list of some of the mathematical functions built into NumPy is here: \n",
    "# https://docs.scipy.org/doc/numpy-1.13.0/reference/routines.math.html"
   ]
  },
  {
   "cell_type": "markdown",
   "metadata": {},
   "source": [
    "### Indexing and Slicing NumPy arrays"
   ]
  },
  {
   "cell_type": "code",
   "execution_count": null,
   "metadata": {},
   "outputs": [],
   "source": [
    "print b\n",
    "# First three elements of the array\n",
    "first3 = b[0:3]\n",
    "# Last three elements of the array\n",
    "last3 = b[-3:]\n",
    "# Elements satisfying condition\n",
    "large =  b[b > 2]\n",
    "\n",
    "print 'Original array: {}'.format(b)\n",
    "print 'First three elements: {}'.format(first3)\n",
    "print 'Last three elements: {}'.format(last3)\n",
    "print 'Elements greater than 2: {}'.format(large)\n"
   ]
  },
  {
   "cell_type": "markdown",
   "metadata": {},
   "source": [
    "## For loops"
   ]
  },
  {
   "cell_type": "markdown",
   "metadata": {},
   "source": [
    "For loops allow you to repeat a series of operations \n",
    "* All code that is to be executed within the loop must be indented from the opening clause (for xx in XX:). "
   ]
  },
  {
   "cell_type": "code",
   "execution_count": null,
   "metadata": {},
   "outputs": [],
   "source": [
    "# Use if you are looping over an array, but don't need to keep track of the iteration number\n",
    "print 'Loop 1 \\n'\n",
    "for x in e:\n",
    "    # do something\n",
    "    print x\n",
    "\n",
    "# Use when you want to control the number of iterations exactly. \n",
    "print '\\n Loop 2 \\n'\n",
    "for ii in range(5):\n",
    "    print ii\n",
    "\n",
    "# Use when you want to loop over an array, but also want to keep track of the iteration number\n",
    "print '\\n Loop 3 \\n'\n",
    "for ii, x in enumerate(e):\n",
    "    print ii, x\n",
    "    "
   ]
  },
  {
   "cell_type": "markdown",
   "metadata": {},
   "source": [
    "## If statements"
   ]
  },
  {
   "cell_type": "code",
   "execution_count": null,
   "metadata": {},
   "outputs": [],
   "source": [
    "\n",
    "moonPhase = 'new'\n",
    "# An example of an if statement with two possible outcomes\n",
    "if moonPhase == 'full':\n",
    "    print 'Beware of werewolves.'\n",
    "else:\n",
    "    print 'No werewolves tonight, you are safe.'\n"
   ]
  },
  {
   "cell_type": "code",
   "execution_count": null,
   "metadata": {},
   "outputs": [],
   "source": [
    "# An example of an if statement with three possible outcomes\n",
    "orbital_distance = 2\n",
    "if orbital_distance <= 5:\n",
    "    print 'It is a terrestrial planet.'\n",
    "elif orbital_distance <= 30:\n",
    "    print 'It is a Jovian planet.'\n",
    "else:\n",
    "    print 'This planet is not in our solar system.'"
   ]
  },
  {
   "cell_type": "code",
   "execution_count": null,
   "metadata": {},
   "outputs": [],
   "source": [
    "# An example of a nested if statement.\n",
    "one = 2\n",
    "caffeinePercent = 10.0\n",
    "if one != 1.0:\n",
    "    if caffeinePercent < 50.0:\n",
    "        print 'You are confused. Have some coffee.'\n",
    "    else:\n",
    "        print 'What, are you a flat-earther too?'\n",
    "else:\n",
    "    'All is right in the world.'"
   ]
  },
  {
   "cell_type": "code",
   "execution_count": null,
   "metadata": {},
   "outputs": [],
   "source": [
    "# An example of an if statment with two conditions. To use the logical operators AND or OR, you can either\n",
    "# type it out or use the symbols & | \n",
    "galactic_latitude = 0\n",
    "if (galactic_latitude < 10.0) or (galactic_latitude > -10.0):\n",
    "    print 'You are in the Galactic disk.'\n",
    "else: \n",
    "    print 'You are not in the Galactic disk.'\n"
   ]
  },
  {
   "cell_type": "markdown",
   "metadata": {},
   "source": [
    "# Exercises"
   ]
  },
  {
   "cell_type": "code",
   "execution_count": null,
   "metadata": {},
   "outputs": [],
   "source": [
    "##### Exercise 1\n",
    "\n",
    "# Write code that prints the numbers from 1 to 100. But, if the number is divisible by 3, print \"Fizz\" instead \n",
    "# of the number. If it is divisible by 5, write \"Buzz\". If it is divisible by both 3 and 5, print \"FizzBuzz\"\n",
    "\n",
    "\n",
    "##### Exercise 2\n",
    "\n",
    "# I've provided you with some sample data. You must identify the outliers via sigma clipping. \n",
    "# Calculate the mean and standard deviation of the samples, and remove (or flag) the stars that are more\n",
    "# than 3 sigma from the mean. \n",
    "\n",
    "data2 = 0.25*np.random.randn(100) + 14\n",
    "data = np.append([13.0, 15.0, 13.12, 15.24, 14.13, 14.06, 13.96], data2)\n",
    "\n",
    "# Write your code here"
   ]
  },
  {
   "cell_type": "code",
   "execution_count": null,
   "metadata": {
    "collapsed": true
   },
   "outputs": [],
   "source": []
  }
 ],
 "metadata": {
  "kernelspec": {
   "display_name": "Python 2",
   "language": "python",
   "name": "python2"
  },
  "language_info": {
   "codemirror_mode": {
    "name": "ipython",
    "version": 2
   },
   "file_extension": ".py",
   "mimetype": "text/x-python",
   "name": "python",
   "nbconvert_exporter": "python",
   "pygments_lexer": "ipython2",
   "version": "2.7.14"
  }
 },
 "nbformat": 4,
 "nbformat_minor": 2
}
