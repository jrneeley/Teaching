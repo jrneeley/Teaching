{
 "cells": [
  {
   "cell_type": "markdown",
   "metadata": {},
   "source": [
    "# Plotting in Python\n",
    "\n",
    "\n",
    "For examples on how to make specific types of plots, you can look in the Python Graph Gallery: \n",
    "https://python-graph-gallery.com/"
   ]
  },
  {
   "cell_type": "code",
   "execution_count": null,
   "metadata": {},
   "outputs": [],
   "source": [
    "import matplotlib.pyplot as plt\n",
    "# In order to see matplotlib plots within your jupyter notebook, you must add the line below. \n",
    "# This is NOT necessary if you are running python from the command line (in a .py file)\n",
    "%matplotlib inline\n",
    "\n",
    "from astropy.table import Table\n",
    "import numpy as np"
   ]
  },
  {
   "cell_type": "markdown",
   "metadata": {},
   "source": [
    "## Basic Scatter Plot\n",
    "\n",
    "https://matplotlib.org/api/_as_gen/matplotlib.pyplot.plot.html\n",
    "\n",
    "https://matplotlib.org/api/_as_gen/matplotlib.pyplot.scatter.html"
   ]
  },
  {
   "cell_type": "code",
   "execution_count": null,
   "metadata": {},
   "outputs": [],
   "source": [
    "# Read in some sample data \n",
    "dt = [('filter', 'U2'), ('date', float), ('phase', float), ('mag', float), ('err', float)]\n",
    "data = np.genfromtxt('star-new.txt', dtype=dt)\n",
    "print(data)"
   ]
  },
  {
   "cell_type": "code",
   "execution_count": null,
   "metadata": {},
   "outputs": [],
   "source": [
    "# define some new variables to make working with our data a little easier\n",
    "\n",
    "I1 = data['filter'] == 'I1'\n",
    "I2 = data['filter'] == 'I2'\n",
    "\n"
   ]
  },
  {
   "cell_type": "code",
   "execution_count": null,
   "metadata": {},
   "outputs": [],
   "source": [
    "# set up the figure \n",
    "fig, ax = plt.subplots(1,1)\n",
    "\n",
    "# Plot the light curve for one band. The 'o' argument sets the marker type\n",
    "ax.plot(data['phase'][I1], data['mag'][I1], 'o') \n",
    "# Label the axes\n",
    "ax.set_xlabel('Phase')\n",
    "ax.set_ylabel('mag')\n",
    "# We are plotting magnitudes on the y axis, so we need to flip the scale so bright is on top\n",
    "ax.invert_yaxis()\n",
    "# Display your plot\n",
    "plt.show()"
   ]
  },
  {
   "cell_type": "markdown",
   "metadata": {},
   "source": [
    "### Adding more data"
   ]
  },
  {
   "cell_type": "code",
   "execution_count": null,
   "metadata": {},
   "outputs": [],
   "source": [
    "# set up the figure \n",
    "fig, ax = plt.subplots(1,1)\n",
    "\n",
    "# Plot the light curve for one band. The 'o' argument sets the marker type\n",
    "ax.plot(data['phase'][I1], data['mag'][I1], 'o') \n",
    "# The second plot statement will automatically get assigned a new color\n",
    "ax.plot(data['phase'][I2], data['mag'][I2], 'o') \n",
    "# Label the axes\n",
    "ax.set_xlabel('Phase')\n",
    "ax.set_ylabel('mag')\n",
    "# We are plotting magnitudes on the y axis, so we need to flip the scale so bright is on top\n",
    "ax.invert_yaxis()\n",
    "# Display your plot\n",
    "plt.show()"
   ]
  },
  {
   "cell_type": "markdown",
   "metadata": {},
   "source": [
    "### Adding a legend\n",
    "\n",
    "https://matplotlib.org/api/_as_gen/matplotlib.pyplot.legend.html#matplotlib.pyplot.legend"
   ]
  },
  {
   "cell_type": "code",
   "execution_count": null,
   "metadata": {},
   "outputs": [],
   "source": [
    "# set up the figure \n",
    "fig, ax = plt.subplots(1,1)\n",
    "\n",
    "# Plot the light curve for one band. The 'o' argument sets the marker type\n",
    "ax.plot(data['phase'][I1], data['mag'][I1], 'o', label='I1') \n",
    "# The second plot statement will automatically get assigned a new color\n",
    "ax.plot(data['phase'][I2], data['mag'][I2], 'o', label='I2') \n",
    "# Label the axes\n",
    "ax.set_xlabel('Phase')\n",
    "ax.set_ylabel('mag')\n",
    "# We are plotting magnitudes on the y axis, so we need to flip the scale so bright is on top\n",
    "ax.invert_yaxis()\n",
    "# Add a legend. See link for more legend placement options\n",
    "plt.legend(loc=4)\n",
    "# Display your plot\n",
    "plt.show()\n"
   ]
  },
  {
   "cell_type": "markdown",
   "metadata": {},
   "source": [
    "### Working with error bars\n",
    "\n",
    "\n",
    "https://matplotlib.org/api/_as_gen/matplotlib.pyplot.errorbar.html"
   ]
  },
  {
   "cell_type": "code",
   "execution_count": null,
   "metadata": {},
   "outputs": [],
   "source": [
    "# set up the figure \n",
    "fig, ax = plt.subplots(1,1)\n",
    "\n",
    "# Plot the light curve for one band. The 'o' argument sets the marker type\n",
    "ax.errorbar(data['phase'][I1], data['mag'][I1], yerr=data['err'][I1], fmt='o') \n",
    "# Label the axes\n",
    "ax.set_xlabel('Phase')\n",
    "ax.set_ylabel('mag')\n",
    "# We are plotting magnitudes on the y axis, so we need to flip the scale so bright is on top\n",
    "ax.invert_yaxis()\n",
    "# Display your plot\n",
    "plt.show()"
   ]
  },
  {
   "cell_type": "markdown",
   "metadata": {},
   "source": [
    "# Subplots\n",
    "\n",
    "https://matplotlib.org/api/pyplot_api.html#matplotlib.pyplot.subplots"
   ]
  },
  {
   "cell_type": "code",
   "execution_count": null,
   "metadata": {},
   "outputs": [],
   "source": [
    "fig, axes = plt.subplots(2, 2, figsize=(10,10), tight_layout=True)\n",
    "\n",
    "axes[0,0].scatter(data['phase'][I1], data['mag'][I1])\n",
    "axes[0,0].set_xlabel('phase')\n",
    "axes[0,0].set_ylabel('I1 mag')\n",
    "axes[0,0].invert_yaxis()\n",
    "\n",
    "axes[0,1].scatter(data['phase'][I2], data['mag'][I2])\n",
    "axes[0,1].set_xlabel('phase')\n",
    "axes[0,1].set_ylabel('I2 mag')\n",
    "axes[0,1].invert_yaxis()\n",
    "\n",
    "axes[1,0].scatter(data['date'][I1], data['mag'][I1])\n",
    "axes[1,0].set_xlabel('MJD')\n",
    "axes[1,0].set_ylabel('I1 mag')\n",
    "axes[1,0].invert_yaxis()\n",
    "\n",
    "axes[1,1].scatter(data['date'][I2], data['mag'][I2])\n",
    "axes[1,1].set_xlabel('MJD')\n",
    "axes[1,1].set_ylabel('I2 mag')\n",
    "axes[1,1].invert_yaxis()\n",
    "\n",
    "plt.show()"
   ]
  },
  {
   "cell_type": "markdown",
   "metadata": {},
   "source": [
    "# Histograms\n",
    "\n",
    "https://matplotlib.org/api/_as_gen/matplotlib.pyplot.hist.html"
   ]
  },
  {
   "cell_type": "code",
   "execution_count": null,
   "metadata": {},
   "outputs": [],
   "source": [
    "# create data to plot as histogram\n",
    "normal_dist = np.random.normal(5, 0.2, 1000)\n",
    "\n",
    "\n",
    "N, bins, patches = plt.hist(normal_dist, bins='auto', histtype='step')\n",
    "plt.xlabel('x')\n",
    "plt.ylabel('N')\n",
    "plt.show()\n",
    "\n"
   ]
  },
  {
   "cell_type": "markdown",
   "metadata": {},
   "source": [
    "# Techniques to make your plots prettier"
   ]
  },
  {
   "cell_type": "markdown",
   "metadata": {},
   "source": [
    "### Colors\n",
    "\n",
    "https://matplotlib.org/2.0.0/examples/color/named_colors.html\n",
    "\n",
    "https://xkcd.com/color/rgb/\n",
    "\n",
    "https://matplotlib.org/tutorials/colors/colormaps.html"
   ]
  },
  {
   "cell_type": "markdown",
   "metadata": {},
   "source": [
    "### Transparency"
   ]
  },
  {
   "cell_type": "code",
   "execution_count": null,
   "metadata": {},
   "outputs": [],
   "source": [
    "x = np.random.uniform(-0.5, 0, 100)\n",
    "y = 2*x+3\n",
    "err = np.random.uniform(0, 0.1, 100)\n",
    "y_new = y + err\n",
    "\n",
    "fig, axes = plt.subplots(1, 2, figsize=(12,5))\n",
    "\n",
    "axes[0].scatter(x, y_new)\n",
    "axes[0].set_xlabel('x')\n",
    "axes[0].set_ylabel('y')\n",
    "\n",
    "axes[1].scatter(x, y_new, alpha=0.5)\n",
    "axes[1].set_xlabel('x')\n",
    "axes[1].set_ylabel('y')\n",
    "\n",
    "plt.show()"
   ]
  },
  {
   "cell_type": "code",
   "execution_count": null,
   "metadata": {},
   "outputs": [],
   "source": [
    "x = np.linspace(0,6*np.pi, 1000)\n",
    "sinx = np.sin(x)\n",
    "\n",
    "plt.plot(x, sinx)\n",
    "plt.axvspan(2*np.pi, 4*np.pi, alpha=0.3, color='xkcd:rose')\n",
    "plt.axhline(0, color='k')\n",
    "plt.xlabel('x')\n",
    "plt.ylabel('y')\n",
    "plt.show()"
   ]
  },
  {
   "cell_type": "markdown",
   "metadata": {},
   "source": [
    "## Saving your plots\n",
    "\n",
    "Instead of the plt.show() command, use plt.savefig(...)"
   ]
  },
  {
   "cell_type": "code",
   "execution_count": null,
   "metadata": {},
   "outputs": [],
   "source": [
    "plt.plot(x, sinx)\n",
    "plt.axvspan(2*np.pi, 4*np.pi, alpha=0.3, color='xkcd:rose')\n",
    "plt.axhline(0, color='k')\n",
    "plt.xlabel('x')\n",
    "plt.ylabel('y')\n",
    "plt.savefig('test-plot.pdf', format='pdf')"
   ]
  },
  {
   "cell_type": "code",
   "execution_count": null,
   "metadata": {},
   "outputs": [],
   "source": []
  }
 ],
 "metadata": {
  "kernelspec": {
   "display_name": "Python 3",
   "language": "python",
   "name": "python3"
  },
  "language_info": {
   "codemirror_mode": {
    "name": "ipython",
    "version": 3
   },
   "file_extension": ".py",
   "mimetype": "text/x-python",
   "name": "python",
   "nbconvert_exporter": "python",
   "pygments_lexer": "ipython3",
   "version": "3.6.7"
  }
 },
 "nbformat": 4,
 "nbformat_minor": 2
}
