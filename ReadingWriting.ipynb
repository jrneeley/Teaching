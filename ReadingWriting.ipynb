{
 "cells": [
  {
   "cell_type": "markdown",
   "metadata": {},
   "source": [
    "# Reading and writing files in Python"
   ]
  },
  {
   "cell_type": "markdown",
   "metadata": {},
   "source": [
    "## Native Python\n",
    "\n",
    "### Opening Files\n",
    "\n",
    "To open a file in python, you can use the built-in `open(...)` function. When you open a file, you need to tell Python what you want to do with it. You do this by specifying \n",
    "the mode argument. Possible modes are:  \n",
    "\n",
    "* __r__ - Read only.\n",
    "\n",
    "* __w__ - Write only. Anything previously in the file will be erased \n",
    "\n",
    "* __a__ - Append. Anything previously in the file is kept, and new things can be written at the end of the file. \n",
    "\n",
    "* __r+__ - Read and write.\n",
    "\n",
    "\n",
    "If you do not supply a mode argument in the open function, it will default to read.\n",
    "\n",
    "\n",
    "### Writing \n",
    "\n",
    "You can write to a file using the `write(...)` function. The content to be written must be given as a single `str`\n",
    "argument. Invisible characters such as newlines must be written explicitly in the string. \n",
    "\n",
    "\n"
   ]
  },
  {
   "cell_type": "code",
   "execution_count": 10,
   "metadata": {},
   "outputs": [],
   "source": [
    "# Open a file in the current directory with write access - if the file \n",
    "# already exists its contents will be overwritten. \n",
    "\n",
    "fileForWriting = open('platonicWisdom', 'w')\n",
    "fileForWriting.write('\"The beginning is the most important part of the work.\"\\n')\n",
    "# Invoke the close() method to ensure that all output operations are completed\n",
    "# and acquired system resources are released.\n",
    "fileForWriting.close()"
   ]
  },
  {
   "cell_type": "code",
   "execution_count": 11,
   "metadata": {},
   "outputs": [],
   "source": [
    "# Open the previously created \"platonicWisdom\" file with append access. \n",
    "# The file already exists and its contents will be appended to. \n",
    "fileForAppending = open('platonicWisdom', 'a')\n",
    "anotherPlatoQuote = '\"Wise men speak because they have something to say; Fools because they have to say something.\"\\n'\n",
    "fileForAppending.write(anotherPlatoQuote)\n",
    "fileForAppending.close()"
   ]
  },
  {
   "cell_type": "code",
   "execution_count": 12,
   "metadata": {},
   "outputs": [],
   "source": [
    "# Assign a literal list containing a single str-type element to the \n",
    "# identifier \"theBestPlatoQuotes\"\n",
    "theBestPlatoQuotes = ['\"I have hardly ever known a mathematician who was capable of reasoning.\"\\n', \n",
    "                     '\"Honesty is for the most part less profitable than dishonesty.\"\\n', \n",
    "                     '\"He was a wise man who invented beer.\"\\n']\n",
    "\n",
    "fileForAppending = open('platonicWisdom', 'a')\n",
    "\n",
    "# Invoke the writelines(...) method to insert multiple strings of characters \n",
    "# into the file. \n",
    "# A list of str-type variables is provided as the single required argument.\n",
    "fileForAppending.writelines(theBestPlatoQuotes)\n",
    "fileForAppending.close()\n",
    "\n",
    "# Alternatively, you can call write() multiple times before you close the file. \n",
    "fileForAppending = open('platonicWisdom', 'a')\n",
    "fileForAppending.write('\"A good decision is based on knowledge and not on numbers.\"\\n')\n",
    "fileForAppending.write('\"Opinions is the medium between knowledge and ignorance.\"\\n')\n",
    "fileForAppending.write('\"There is no harm in repeating a good thing.\"\\n')\n",
    "fileForAppending.close()\n"
   ]
  },
  {
   "cell_type": "markdown",
   "metadata": {},
   "source": [
    "### Reading\n",
    "\n",
    "\n",
    "There are several built-in ways to read a file.\n",
    "\n",
    "* `read(...)` - reads the whole file at once into a string.\n",
    "* `readline(...)` - Read a single line from the file. \n",
    "* `readlines(...)` - Reads multiple lines from a file and puts each line as an entry in a list. "
   ]
  },
  {
   "cell_type": "code",
   "execution_count": 14,
   "metadata": {},
   "outputs": [
    {
     "name": "stdout",
     "output_type": "stream",
     "text": [
      "\"The beginning is the most important part of the work.\"\n",
      "\"Wise men speak because they have something to say; Fools because they have to say something.\"\n",
      "\"I have hardly ever known a mathematician who was capable of reasoning.\"\n",
      "\"Honesty is for the most part less profitable than dishonesty.\"\n",
      "\"He was a wise man who invented beer.\"\n",
      "\"A good decision is based on knowledge and not on numbers.\"\n",
      "\"Opinions is the medium between knowledge and ignorance.\"\n",
      "\"There is no harm in repeating a good thing.\"\n",
      "\n"
     ]
    }
   ],
   "source": [
    "fileForReading = open('platonicWisdom', 'r')\n",
    "stuff = fileForReading.read()\n",
    "fileForReading.close()\n",
    "print stuff\n"
   ]
  },
  {
   "cell_type": "code",
   "execution_count": 15,
   "metadata": {},
   "outputs": [
    {
     "name": "stdout",
     "output_type": "stream",
     "text": [
      "First Line:\n",
      "\"The beginning is the most important part of the work.\"\n",
      "\n",
      "Second Line:\n",
      "\"Wise men speak because they have something to say; Fools because they have to say something.\"\n",
      "\n"
     ]
    }
   ],
   "source": [
    "fileForReading = open('platonicWisdom', 'r')\n",
    "\n",
    "# Extract a single line from the file. The extracted line is returned\n",
    "# as a str-type object.\n",
    "firstLine = fileForReading.readline()\n",
    "\n",
    "print \"First Line:\\n\", firstLine\n",
    "\n",
    "# Subsequent calls to readline() will start from the current position\n",
    "# in the file, so to extract the second line, simply invoke readline()\n",
    "# again.\n",
    "secondLine = fileForReading.readline()\n",
    "\n",
    "print \"Second Line:\\n\", secondLine\n",
    "\n",
    "fileForReading.close()\n",
    "\n"
   ]
  },
  {
   "cell_type": "code",
   "execution_count": 19,
   "metadata": {},
   "outputs": [
    {
     "name": "stdout",
     "output_type": "stream",
     "text": [
      "List of Quotes:\n",
      "['\"The beginning is the most important part of the work.\"\\n', '\"Wise men speak because they have something to say; Fools because they have to say something.\"\\n', '\"I have hardly ever known a mathematician who was capable of reasoning.\"\\n', '\"Honesty is for the most part less profitable than dishonesty.\"\\n', '\"He was a wise man who invented beer.\"\\n', '\"A good decision is based on knowledge and not on numbers.\"\\n', '\"Opinions is the medium between knowledge and ignorance.\"\\n', '\"There is no harm in repeating a good thing.\"\\n'] \n",
      "\n",
      "Selected Quotes:\n",
      "\"A good decision is based on knowledge and not on numbers.\"\n",
      "\n",
      "\"Opinions is the medium between knowledge and ignorance.\"\n",
      "\n",
      "\"There is no harm in repeating a good thing.\"\n",
      "\n"
     ]
    }
   ],
   "source": [
    "fileForReading = open('platonicWisdom', 'r')\n",
    "\n",
    "# Invoke the readlines() method to extract the file contents as\n",
    "# a list of str-type instances.\n",
    "allTheQuotes = fileForReading.readlines()\n",
    "fileForReading.close()\n",
    "\n",
    "print \"List of Quotes:\\n\", allTheQuotes, \"\\n\"\n",
    "\n",
    "# Use the list indexing syntax to extract a subset of the extracted\n",
    "# lines. \n",
    "# Note that the built-in len(...) function returns an int-type\n",
    "# value corresponding to the number of elements comprising the required\n",
    "# sequence-type argument.\n",
    "selectedQuotes = allTheQuotes[-3:]\n",
    "\n",
    "print \"Selected Quotes:\"\n",
    "for quote in selectedQuotes :\n",
    "    print quote\n",
    "    \n",
    "\n",
    "\n"
   ]
  },
  {
   "cell_type": "markdown",
   "metadata": {},
   "source": [
    "# Numpy\n",
    "\n",
    "A far more efficient way to read data from a file is using NumPy's `genfromtxt(...)` function. See this page for some good examples on how to use some of the parameters: https://docs.scipy.org/doc/numpy-1.13.0/user/basics.io.genfromtxt.html \n",
    "\n",
    "__Parameters:__\n",
    "\n",
    "* __filename__  - The name of the file you want to read\n",
    "* __dtype__ - The datatype of the resulting array. If not specified, will be determined automatically\n",
    "* __comments__ - Specify the character that indicates a commment. Lines beginning with this character will not be read\n",
    "* __delimiter__ - Specify the delimiter of your file, default is whitespace. \n",
    "* __skip_header__ - The number of lines to skip at the beginning of the file. \n",
    "* __skip_footer__ - The number of lines to skip at the end of the file\n",
    "* converters\n",
    "* __missing_values__ - The set of strings that correspond to missing data\n",
    "* __filling_values__ - The set of values to be used for missing data\n",
    "* __usecols__ - Specify which columns should be read\n",
    "* __names__ - Specify the names of each column \n",
    "* excludelist\n",
    "* deletechars\n",
    "* defaultfmt\n",
    "* autostrip - Boolean value indicating whether or not to strip whitespace from variables. \n",
    "* replace_space - Replace whitespaces with a specified character\n",
    "* case_sensitive - Specify whether field names should be case sensitive or not\n",
    "* __unpack__ - Transpose the array so that the columns are returned as separate variables. \n",
    "* loose - Boolean value indicating if errors should be raised for invalid values\n",
    "* invalid_raise - Raise an exception if inconsistency in number of columns is detected\n",
    "* max_rows - Maximum number of rows to read\n",
    "    \n"
   ]
  },
  {
   "cell_type": "code",
   "execution_count": 1,
   "metadata": {},
   "outputs": [
    {
     "name": "stdout",
     "output_type": "stream",
     "text": [
      "[[           nan 5.64462941e+04 1.09640000e+01 8.40000000e-02]\n",
      " [           nan 5.64462417e+04 1.09820000e+01 8.57000000e-02]\n",
      " [           nan 5.64461956e+04 1.09750000e+01 8.32000000e-02]\n",
      " [           nan 5.64461470e+04 1.09720000e+01 8.31000000e-02]\n",
      " [           nan 5.64460936e+04 1.11000000e+01 8.17000000e-02]\n",
      " [           nan 5.64460390e+04 1.12350000e+01 9.64000000e-02]\n",
      " [           nan 5.64459864e+04 1.11030000e+01 8.36000000e-02]\n",
      " [           nan 5.64459315e+04 1.10520000e+01 8.59000000e-02]\n",
      " [           nan 5.64458878e+04 1.09870000e+01 8.25000000e-02]\n",
      " [           nan 5.64458312e+04 1.09450000e+01 8.06000000e-02]\n",
      " [           nan 5.64457824e+04 1.09160000e+01 9.54000000e-02]\n",
      " [           nan 5.64457186e+04 1.09630000e+01 8.42000000e-02]\n",
      " [           nan 5.64462941e+04 1.08370000e+01 3.10000000e-02]\n",
      " [           nan 5.64462417e+04 1.08380000e+01 3.22000000e-02]\n",
      " [           nan 5.64461956e+04 1.08470000e+01 3.12000000e-02]\n",
      " [           nan 5.64461470e+04 1.08720000e+01 3.27000000e-02]\n",
      " [           nan 5.64460936e+04 1.09760000e+01 3.29000000e-02]\n",
      " [           nan 5.64460390e+04 1.11110000e+01 2.90000000e-02]\n",
      " [           nan 5.64459864e+04 1.10130000e+01 3.13000000e-02]\n",
      " [           nan 5.64459315e+04 1.09540000e+01 3.08000000e-02]\n",
      " [           nan 5.64458878e+04 1.09020000e+01 2.96000000e-02]\n",
      " [           nan 5.64458312e+04 1.08710000e+01 3.01000000e-02]\n",
      " [           nan 5.64457824e+04 1.08550000e+01 3.00000000e-02]\n",
      " [           nan 5.64457186e+04 1.08450000e+01 3.49000000e-02]]\n",
      "[56446.2941 56446.2417 56446.1956 56446.147  56446.0936 56446.039\n",
      " 56445.9864 56445.9315 56445.8878 56445.8312 56445.7824 56445.7186\n",
      " 56446.2941 56446.2417 56446.1956 56446.147  56446.0936 56446.039\n",
      " 56445.9864 56445.9315 56445.8878 56445.8312 56445.7824 56445.7186]\n"
     ]
    }
   ],
   "source": [
    "import numpy as np\n",
    "\n",
    "# Attempt to read the full file.\n",
    "data = np.genfromtxt('star.txt')\n",
    "\n",
    "print data\n",
    "\n",
    "# Read a subset of the columns, and save the results into different variables. \n",
    "date, mag, err = np.genfromtxt('star.txt', usecols=(1,2,3), unpack=True)\n",
    "\n",
    "print date"
   ]
  },
  {
   "cell_type": "code",
   "execution_count": 2,
   "metadata": {},
   "outputs": [
    {
     "name": "stdout",
     "output_type": "stream",
     "text": [
      "('I1', 56446.2941, 10.964, 0.084)\n",
      "[10.964 10.982 10.975 10.972 11.1   11.235 11.103 11.052 10.987 10.945\n",
      " 10.916 10.963 10.837 10.838 10.847 10.872 10.976 11.111 11.013 10.954\n",
      " 10.902 10.871 10.855 10.845]\n"
     ]
    }
   ],
   "source": [
    "# Specify the data type (and name) of each column\n",
    "datatype = [('filter', 'S2'), ('date', float), ('mag', float), ('err', float)]\n",
    "data = np.genfromtxt('star.txt', dtype=datatype)\n",
    "print data[0]\n",
    "print data['mag']"
   ]
  },
  {
   "cell_type": "markdown",
   "metadata": {},
   "source": [
    "### Writing in NumPy"
   ]
  },
  {
   "cell_type": "code",
   "execution_count": 5,
   "metadata": {},
   "outputs": [
    {
     "name": "stdout",
     "output_type": "stream",
     "text": [
      "[0.78185532 0.68403608 0.59797755 0.50725206 0.40756604 0.30563988\n",
      " 0.20744729 0.10496109 0.02338283 0.91772311 0.82662428 0.70752375\n",
      " 0.78185532 0.68403608 0.59797755 0.50725206 0.40756604 0.30563988\n",
      " 0.20744729 0.10496109 0.02338283 0.91772311 0.82662428 0.70752375]\n"
     ]
    }
   ],
   "source": [
    "# Say we want to create a new file with an extra column.\n",
    "\n",
    "# First let's create our new column, in this case the \"phase\" of each observation\n",
    "phase = np.mod(data['date']/0.53568192, 1)\n",
    "print phase\n",
    "\n",
    "# Now we create a new array containing all of the data we want. \n",
    "data_save = np.array(zip(data['filter'], data['date'], phase, data['mag'], data['err']), \\\n",
    "                    dtype=[('1', 'S2'), ('2', float), ('3', float), ('4', float), ('5', float)])\n",
    "\n",
    "# Now save this into a new file. \n",
    "np.savetxt('star-new.txt', data_save, fmt='%2s %10.4f %6.4f %6.3f %5.3f')"
   ]
  },
  {
   "cell_type": "markdown",
   "metadata": {},
   "source": [
    "# Astropy Table"
   ]
  },
  {
   "cell_type": "code",
   "execution_count": 12,
   "metadata": {},
   "outputs": [
    {
     "name": "stdout",
     "output_type": "stream",
     "text": [
      "col1    col2     col3   col4 \n",
      "---- ---------- ------ ------\n",
      "  I1 56446.2941 10.964  0.084\n",
      "  I1 56446.2417 10.982 0.0857\n",
      "  I1 56446.1956 10.975 0.0832\n",
      "  I1  56446.147 10.972 0.0831\n",
      "  I1 56446.0936   11.1 0.0817\n",
      "  I1  56446.039 11.235 0.0964\n",
      "  I1 56445.9864 11.103 0.0836\n",
      "  I1 56445.9315 11.052 0.0859\n",
      "  I1 56445.8878 10.987 0.0825\n",
      "  I1 56445.8312 10.945 0.0806\n",
      " ...        ...    ...    ...\n",
      "  I2 56446.2417 10.838 0.0322\n",
      "  I2 56446.1956 10.847 0.0312\n",
      "  I2  56446.147 10.872 0.0327\n",
      "  I2 56446.0936 10.976 0.0329\n",
      "  I2  56446.039 11.111  0.029\n",
      "  I2 56445.9864 11.013 0.0313\n",
      "  I2 56445.9315 10.954 0.0308\n",
      "  I2 56445.8878 10.902 0.0296\n",
      "  I2 56445.8312 10.871 0.0301\n",
      "  I2 56445.7824 10.855   0.03\n",
      "  I2 56445.7186 10.845 0.0349\n",
      "Length = 24 rows\n"
     ]
    }
   ],
   "source": [
    "from astropy.table import Table\n",
    "\n",
    "t = Table.read('star.txt', format='ascii')\n",
    "\n",
    "print t"
   ]
  },
  {
   "cell_type": "code",
   "execution_count": 16,
   "metadata": {},
   "outputs": [
    {
     "name": "stdout",
     "output_type": "stream",
     "text": [
      "<TableColumns names=('solution_id','source_id','band','transit_id','time','mag','flux','flux_error','flux_over_error','rejected_by_photometry','rejected_by_variability','other_flags','p1','p2','p3','pf')>\n",
      "   solution_id          source_id      band ...  p2  p3         pf        \n",
      "                                            ...  d   d          d         \n",
      "------------------ ------------------- ---- ... --- --- ------------------\n",
      "369295549951641967 1546016672688675200   BP ...  --  -- 0.5995735454969419\n",
      "369295549951641967 1546016672688675200   BP ...  --  -- 0.5995735454969419\n",
      "369295549951641967 1546016672688675200   BP ...  --  -- 0.5995735454969419\n",
      "369295549951641967 1546016672688675200   BP ...  --  -- 0.5995735454969419\n",
      "369295549951641967 1546016672688675200   BP ...  --  -- 0.5995735454969419\n",
      "369295549951641967 1546016672688675200   BP ...  --  -- 0.5995735454969419\n",
      "369295549951641967 1546016672688675200   BP ...  --  -- 0.5995735454969419\n",
      "369295549951641967 1546016672688675200   BP ...  --  -- 0.5995735454969419\n",
      "369295549951641967 1546016672688675200   BP ...  --  -- 0.5995735454969419\n",
      "369295549951641967 1546016672688675200   BP ...  --  -- 0.5995735454969419\n",
      "               ...                 ...  ... ... ... ...                ...\n",
      "369295549951641967 1546016672688675200   RP ...  --  -- 0.5995735454969419\n",
      "369295549951641967 1546016672688675200   RP ...  --  -- 0.5995735454969419\n",
      "369295549951641967 1546016672688675200   RP ...  --  -- 0.5995735454969419\n",
      "369295549951641967 1546016672688675200   RP ...  --  -- 0.5995735454969419\n",
      "369295549951641967 1546016672688675200   RP ...  --  -- 0.5995735454969419\n",
      "369295549951641967 1546016672688675200   RP ...  --  -- 0.5995735454969419\n",
      "369295549951641967 1546016672688675200   RP ...  --  -- 0.5995735454969419\n",
      "369295549951641967 1546016672688675200   RP ...  --  -- 0.5995735454969419\n",
      "369295549951641967 1546016672688675200   RP ...  --  -- 0.5995735454969419\n",
      "369295549951641967 1546016672688675200   RP ...  --  -- 0.5995735454969419\n",
      "Length = 200 rows\n",
      "       mag        \n",
      "       mag        \n",
      "------------------\n",
      " 11.11106029711695\n",
      "10.896809549384216\n",
      "11.148370991524004\n",
      "11.223638855075208\n",
      "10.896841539063951\n",
      "11.082529506428882\n",
      " 11.23140825266804\n",
      "10.949586407636849\n",
      "11.019807908151778\n",
      "11.206033286503088\n",
      "               ...\n",
      "10.475223071543821\n",
      "10.526218326271497\n",
      "10.462158438673466\n",
      "10.307055997290224\n",
      "10.342584267540396\n",
      " 10.47675389836215\n",
      "10.502110538050385\n",
      "10.377093138958513\n",
      " 10.27380018607188\n",
      "10.547471413810412\n",
      "Length = 200 rows\n"
     ]
    }
   ],
   "source": [
    "# Sometimes, you will get data in a format that isn't easily read by a text editor. Astropy's Table module \n",
    "# is built to read these tables easily. In this example, I've downloaded multiepoch data from the Gaia \n",
    "# mission for a single star. Gaia provides files in VOTable format. \n",
    "\n",
    "t = Table.read('star-data.vot', format='votable')\n",
    "\n",
    "print t.columns\n",
    "print t\n",
    "print t['mag']"
   ]
  },
  {
   "cell_type": "code",
   "execution_count": null,
   "metadata": {},
   "outputs": [],
   "source": []
  }
 ],
 "metadata": {
  "kernelspec": {
   "display_name": "Python 2",
   "language": "python",
   "name": "python2"
  },
  "language_info": {
   "codemirror_mode": {
    "name": "ipython",
    "version": 2
   },
   "file_extension": ".py",
   "mimetype": "text/x-python",
   "name": "python",
   "nbconvert_exporter": "python",
   "pygments_lexer": "ipython2",
   "version": "2.7.14"
  }
 },
 "nbformat": 4,
 "nbformat_minor": 2
}
