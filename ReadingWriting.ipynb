{
 "cells": [
  {
   "cell_type": "markdown",
   "metadata": {},
   "source": [
    "# Reading and writing files in Python"
   ]
  },
  {
   "cell_type": "markdown",
   "metadata": {},
   "source": [
    "## Native Python\n",
    "\n",
    "### Opening Files\n",
    "\n",
    "To open a file in python, you can use the built-in `open(...)` function. When you open a file, you need to tell Python what you want to do with it. You do this by specifying \n",
    "the mode argument. Possible modes are:  \n",
    "\n",
    "* __r__ - Read only.\n",
    "\n",
    "* __w__ - Write only. Anything previously in the file will be erased \n",
    "\n",
    "* __a__ - Append. Anything previously in the file is kept, and new things can be written at the end of the file. \n",
    "\n",
    "* __r+__ - Read and write.\n",
    "\n",
    "\n",
    "If you do not supply a mode argument in the open function, it will default to read.\n",
    "\n",
    "\n",
    "### Writing \n",
    "\n",
    "You can write to a file using the `write(...)` function. The content to be written must be given as a single `str`\n",
    "argument. Invisible characters such as newlines must be written explicitly in the string. \n",
    "\n",
    "\n"
   ]
  },
  {
   "cell_type": "code",
   "execution_count": null,
   "metadata": {},
   "outputs": [],
   "source": [
    "# Open a file in the current directory with write access - if the file \n",
    "# already exists its contents will be overwritten. \n",
    "\n",
    "fileForWriting = open('platonicWisdom', 'w')\n",
    "fileForWriting.write('\"The beginning is the most important part of the work.\"\\n')\n",
    "# Invoke the close() method to ensure that all output operations are completed\n",
    "# and acquired system resources are released.\n",
    "fileForWriting.close()"
   ]
  },
  {
   "cell_type": "code",
   "execution_count": null,
   "metadata": {},
   "outputs": [],
   "source": [
    "# Open the previously created \"platonicWisdom\" file with append access. \n",
    "# The file already exists and its contents will be appended to. \n",
    "fileForAppending = open('platonicWisdom', 'a')\n",
    "anotherPlatoQuote = '\"Wise men speak because they have something to say; Fools because they have to say something.\"\\n'\n",
    "fileForAppending.write(anotherPlatoQuote)\n",
    "fileForAppending.close()"
   ]
  },
  {
   "cell_type": "code",
   "execution_count": null,
   "metadata": {},
   "outputs": [],
   "source": [
    "# Assign a literal list containing a single str-type element to the \n",
    "# identifier \"theBestPlatoQuotes\"\n",
    "theBestPlatoQuotes = ['\"I have hardly ever known a mathematician who was capable of reasoning.\"\\n', \n",
    "                     '\"Honesty is for the most part less profitable than dishonesty.\"\\n', \n",
    "                     '\"He was a wise man who invented beer.\"\\n']\n",
    "\n",
    "fileForAppending = open('platonicWisdom', 'a')\n",
    "\n",
    "# Invoke the writelines(...) method to insert multiple strings of characters \n",
    "# into the file. \n",
    "# A list of str-type variables is provided as the single required argument.\n",
    "fileForAppending.writelines(theBestPlatoQuotes)\n",
    "fileForAppending.close()\n",
    "\n",
    "# Alternatively, you can call write() multiple times before you close the file. \n",
    "fileForAppending = open('platonicWisdom', 'a')\n",
    "fileForAppending.write('\"A good decision is based on knowledge and not on numbers.\"\\n')\n",
    "fileForAppending.write('\"Opinions is the medium between knowledge and ignorance.\"\\n')\n",
    "fileForAppending.write('\"There is no harm in repeating a good thing.\"\\n')\n",
    "fileForAppending.close()\n"
   ]
  },
  {
   "cell_type": "markdown",
   "metadata": {},
   "source": [
    "### Reading\n",
    "\n",
    "\n",
    "There are several built-in ways to read a file.\n",
    "\n",
    "* `read(...)` - reads the whole file at once into a string.\n",
    "* `readline(...)` - Read a single line from the file. \n",
    "* `readlines(...)` - Reads multiple lines from a file and puts each line as an entry in a list. "
   ]
  },
  {
   "cell_type": "code",
   "execution_count": null,
   "metadata": {},
   "outputs": [],
   "source": [
    "fileForReading = open('platonicWisdom', 'r')\n",
    "stuff = fileForReading.read()\n",
    "fileForReading.close()\n",
    "print stuff\n"
   ]
  },
  {
   "cell_type": "code",
   "execution_count": null,
   "metadata": {},
   "outputs": [],
   "source": [
    "fileForReading = open('platonicWisdom', 'r')\n",
    "\n",
    "# Extract a single line from the file. The extracted line is returned\n",
    "# as a str-type object.\n",
    "firstLine = fileForReading.readline()\n",
    "\n",
    "print \"First Line:\\n\", firstLine\n",
    "\n",
    "# Subsequent calls to readline() will start from the current position\n",
    "# in the file, so to extract the second line, simply invoke readline()\n",
    "# again.\n",
    "secondLine = fileForReading.readline()\n",
    "\n",
    "print \"Second Line:\\n\", secondLine\n",
    "\n",
    "fileForReading.close()\n",
    "\n"
   ]
  },
  {
   "cell_type": "code",
   "execution_count": null,
   "metadata": {},
   "outputs": [],
   "source": [
    "fileForReading = open('platonicWisdom', 'r')\n",
    "\n",
    "# Invoke the readlines() method to extract the file contents as\n",
    "# a list of str-type instances.\n",
    "allTheQuotes = fileForReading.readlines()\n",
    "fileForReading.close()\n",
    "\n",
    "print \"List of Quotes:\\n\", allTheQuotes, \"\\n\"\n",
    "\n",
    "# Use the list indexing syntax to extract a subset of the extracted\n",
    "# lines. \n",
    "# Note that the built-in len(...) function returns an int-type\n",
    "# value corresponding to the number of elements comprising the required\n",
    "# sequence-type argument.\n",
    "selectedQuotes = allTheQuotes[-3:]\n",
    "\n",
    "print \"Selected Quotes:\"\n",
    "for quote in selectedQuotes :\n",
    "    print quote\n",
    "    \n",
    "\n",
    "\n"
   ]
  },
  {
   "cell_type": "markdown",
   "metadata": {},
   "source": [
    "# Numpy\n",
    "\n",
    "A far more efficient way to read data from a file is using NumPy's `genfromtxt(...)` function. See this page for some good examples on how to use some of the parameters: https://docs.scipy.org/doc/numpy-1.13.0/user/basics.io.genfromtxt.html \n",
    "\n",
    "__Parameters:__\n",
    "\n",
    "* __filename__  - The name of the file you want to read\n",
    "* __dtype__ - The datatype of the resulting array. If not specified, will be determined automatically\n",
    "* __comments__ - Specify the character that indicates a commment. Lines beginning with this character will not be read\n",
    "* __delimiter__ - Specify the delimiter of your file, default is whitespace. \n",
    "* __skip_header__ - The number of lines to skip at the beginning of the file. \n",
    "* __skip_footer__ - The number of lines to skip at the end of the file\n",
    "* converters\n",
    "* __missing_values__ - The set of strings that correspond to missing data\n",
    "* __filling_values__ - The set of values to be used for missing data\n",
    "* __usecols__ - Specify which columns should be read\n",
    "* __names__ - Specify the names of each column \n",
    "* excludelist\n",
    "* deletechars\n",
    "* defaultfmt\n",
    "* autostrip - Boolean value indicating whether or not to strip whitespace from variables. \n",
    "* replace_space - Replace whitespaces with a specified character\n",
    "* case_sensitive - Specify whether field names should be case sensitive or not\n",
    "* __unpack__ - Transpose the array so that the columns are returned as separate variables. \n",
    "* loose - Boolean value indicating if errors should be raised for invalid values\n",
    "* invalid_raise - Raise an exception if inconsistency in number of columns is detected\n",
    "* max_rows - Maximum number of rows to read\n",
    "    \n"
   ]
  },
  {
   "cell_type": "code",
   "execution_count": null,
   "metadata": {},
   "outputs": [],
   "source": [
    "import numpy as np\n",
    "\n",
    "# Attempt to read the full file.\n",
    "data = np.genfromtxt('star.txt')\n",
    "\n",
    "print data\n",
    "\n",
    "# Read a subset of the columns, and save the results into different variables. \n",
    "date, mag, err = np.genfromtxt('star.txt', usecols=(1,2,3), unpack=True)\n",
    "\n",
    "print date"
   ]
  },
  {
   "cell_type": "code",
   "execution_count": null,
   "metadata": {},
   "outputs": [],
   "source": [
    "# Specify the data type (and name) of each column\n",
    "datatype = [('filter', 'S2'), ('date', float), ('mag', float), ('err', float)]\n",
    "data = np.genfromtxt('star.txt', dtype=datatype)\n",
    "print data[0]\n",
    "print data['mag']"
   ]
  },
  {
   "cell_type": "markdown",
   "metadata": {},
   "source": [
    "### Writing in NumPy"
   ]
  },
  {
   "cell_type": "code",
   "execution_count": null,
   "metadata": {},
   "outputs": [],
   "source": [
    "# Say we want to create a new file with an extra column.\n",
    "\n",
    "# First let's create our new column, in this case the \"phase\" of each observation\n",
    "phase = np.mod(data['date']/0.53568192, 1)\n",
    "print phase\n",
    "\n",
    "# Now we create a new array containing all of the data we want. \n",
    "data_save = np.array(zip(data['filter'], data['date'], phase, data['mag'], data['err']), \\\n",
    "                    dtype=[('1', 'S2'), ('2', float), ('3', float), ('4', float), ('5', float)])\n",
    "\n",
    "# Now save this into a new file. \n",
    "np.savetxt('star-new.txt', data_save, fmt='%2s %10.4f %6.4f %6.3f %5.3f')"
   ]
  },
  {
   "cell_type": "markdown",
   "metadata": {},
   "source": [
    "# Astropy Table"
   ]
  },
  {
   "cell_type": "code",
   "execution_count": null,
   "metadata": {},
   "outputs": [],
   "source": [
    "from astropy.table import Table\n",
    "\n",
    "t = Table.read('star.txt', format='ascii')\n",
    "\n",
    "print t"
   ]
  },
  {
   "cell_type": "code",
   "execution_count": null,
   "metadata": {},
   "outputs": [],
   "source": [
    "# Sometimes, you will get data in a format that isn't easily read by a text editor. Astropy's Table module \n",
    "# is built to read these tables easily. In this example, I've downloaded multiepoch data from the Gaia \n",
    "# mission for a single star. Gaia provides files in VOTable format. \n",
    "\n",
    "t = Table.read('star-data.vot', format='votable')\n",
    "\n",
    "print t.columns\n",
    "print t\n",
    "print t['mag']"
   ]
  },
  {
   "cell_type": "markdown",
   "metadata": {},
   "source": [
    "# Exercises\n"
   ]
  },
  {
   "cell_type": "code",
   "execution_count": null,
   "metadata": {},
   "outputs": [],
   "source": [
    "## Create a file that has two columns, x and y for y = sin(x)\n",
    "\n",
    "# Write code here\n",
    "\n",
    "## Now read in that file, and add a third column, y2 = cos(x), and save the resutls to a new file. \n",
    "\n",
    "# Write code here "
   ]
  }
 ],
 "metadata": {
  "kernelspec": {
   "display_name": "Python 2",
   "language": "python",
   "name": "python2"
  },
  "language_info": {
   "codemirror_mode": {
    "name": "ipython",
    "version": 2
   },
   "file_extension": ".py",
   "mimetype": "text/x-python",
   "name": "python",
   "nbconvert_exporter": "python",
   "pygments_lexer": "ipython2",
   "version": "2.7.14"
  }
 },
 "nbformat": 4,
 "nbformat_minor": 2
}
